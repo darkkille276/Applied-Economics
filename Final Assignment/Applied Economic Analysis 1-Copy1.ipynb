{
 "cells": [
  {
   "cell_type": "markdown",
   "metadata": {},
   "source": [
    "# Applied Economic Analysis: Python Assignment"
   ]
  },
  {
   "cell_type": "markdown",
   "metadata": {},
   "source": [
    "|Name|examnr.|\n",
    "|----|-------|\n",
    "|Anwar Amezoug|101816|\n"
   ]
  },
  {
   "cell_type": "markdown",
   "metadata": {},
   "source": [
    "# The Plankton Reveals the Whale"
   ]
  },
  {
   "cell_type": "markdown",
   "metadata": {},
   "source": [
    "## Table of Content  <a id='TOC'></a>"
   ]
  },
  {
   "cell_type": "markdown",
   "metadata": {},
   "source": [
    "- [Research Question](#Research_Question)\n",
    "- (#Motivation')\n",
    "- <a href= '#Answer'>Answer</a>\n",
    "- <a href= '#A&L'>Assumptions and Limitations</a>\n",
    "- <a href= '#Data'>Data</a>\n",
    "- <a href= '#Pre-Processing'>Pre-Processing</a>\n",
    "- <a href= '#Data_Distribution'>Data Distribution</a>\n",
    "- <a href= '#Grid_Search'>Grid Search</a>\n",
    "- <a href= '#Domain_Specific'>FastText Domain Specific Model:</a>\n",
    "    - <a href= '#DSTwitterGender'>Twitter Gender</a>\n",
    "    - <a href= '#DSRedditGender'>Reddit Gender</a>\n",
    "    - <a href= '#DSTwitterAge'>Twitter Age</a>\n",
    "    - <a href= '#DSRedditAge'>Reddit Age</a><p/>\n",
    "    \n",
    "- <a href= '#Cross_Domain'>FastText Cross-Domain Model:</a><p/>\n",
    "    - <a href= '#CSTwitterGender'>Twitter Gender</a>\n",
    "    - <a href= '#CSRedditGender'>Reddit Gender</a>\n",
    "    - <a href= '#CSTwitterAge'>Twitter Age</a>\n",
    "    - <a href= '#CSRedditAge'>Reddit Age</a><p/>\n",
    "- <a href= '#Conclusion'>Conclusion</a>"
   ]
  },
  {
   "cell_type": "markdown",
   "metadata": {},
   "source": [
    "## Research Question (#Research_Question)"
   ]
  },
  {
   "cell_type": "markdown",
   "metadata": {},
   "source": [
    "- To what extent can anonymous social network user's gender and age be indentified for marketing, law enforcement and social engineering purposes?\n",
    "- To what extent can we classify the gender and age of Twitter and Reddit users based solely on their linguistical and syntaxical features?\n",
    "- To what extent is a one-fit-all model an effective method of extracting age and gender across domain?\n",
    "\n",
    "Firstly, we will analyze to what extent the employed models are able to classify gender and age on Twitter and Reddit. Secondly, we will run a cross-domain approach to analyze the generalizability of our models across social platforms. Lastly, we answer whether the use of a one-fit-all model leads to an efficient and competitive method for extracting personal attributes such as gender and age. <a href= '#TOC'>Top</a>"
   ]
  },
  {
   "cell_type": "markdown",
   "metadata": {},
   "source": [
    "## Motivation <a id='Motivation'></a>"
   ]
  },
  {
   "cell_type": "markdown",
   "metadata": {},
   "source": [
    "Social networks have become a popular way for people to connect, with 1/7th of the\n",
    "world’s population making use of Twitter, Reddit and Facebook regularly. This is propagated through direct messaging and the broadcasting of content. The popularity of the networks creates the opportunity to study society at a scale, by leveraging unprecedented varieties of written language. \n",
    "\n",
    "The field of author profiling deals with the process of deciphering information about a given author, e.g. identifying age, gender and personality, from the text he or she has written. Author profiling derives its application from the curtain of anonymity that has engulfed online communication. Author profiling is applied in fields such as security, personalized advertisements and law enforcement. While in marketing, the data is used to reveal the demographic information on the most profitable audience and subsequently create an advertisement campaign to target this group of consumers on social media. However, it could also be used in a harmful manner and result in substantial losses for the individuals and firms involved. Namely, it could be used for the uncovering and targeting vulnurable individuals for social engineering purposes.\n",
    "\n",
    "We aim to show that a feasible and efficient machine learning algorithm can be employed with the use of a small sub sample of labeled data to reveal the attributes of anonymous users. Subsequently, the information revealed could then be used for i.e. the purposes of marketing, law enforcement and social hackers. <a href= '#TOC'>Top</a>"
   ]
  },
  {
   "cell_type": "markdown",
   "metadata": {},
   "source": [
    "## Answer<a id='Answer'></a>"
   ]
  },
  {
   "cell_type": "markdown",
   "metadata": {
    "collapsed": true
   },
   "source": [
    "We demonstrate competitive performance for the Reddit age, Reddit gender, Twitter age and Twitter gender models. Furthermore, the cross-domain experiment shows that Twitter and Reddit’s gender and age models generalize well. Finally, our main contribution is the analysis of the generalizability between Reddit and Twitter where we find the information extracted by the one-fit-all model is able to efficiently extract the personal attributes of otherwise anonymous users for the purpose of marketing, law enforcement and social hacking. <a href= '#TOC'>Top</a>"
   ]
  },
  {
   "cell_type": "markdown",
   "metadata": {},
   "source": [
    "## Assumption and Limitations <a id='A&L'></a>"
   ]
  },
  {
   "cell_type": "markdown",
   "metadata": {},
   "source": [
    "The selected Reddit gender authors suffer from selection bias as they are exclusively sampled from the /Askwomen and /Askmen subreddit in which the authors choose to reveal their gender, which constitutes a specific sub-population that chooses to reveal their gendser. Similarly, the Reddit age authors suffer from selection biased as they are gathered through queries in which authors decide to reveal their age, which also constitutes a specific sub- population that chooses to reveal their age. However, all classification studies on social media suffer from this bias as there is no frame in place which allows to sample from all users.\n",
    "\n",
    "Second, we made use of relatively small samples of people above the age of 40 and below the age of 20. Which is likely to explain the poorer performance of these groups.\n",
    "\n",
    "Thirdly, the queries are able to be tuned substantially to improve the accuracy. <a href= '#TOC'>Top</a>"
   ]
  },
  {
   "cell_type": "markdown",
   "metadata": {},
   "source": [
    "## Data<a id='Data'></a>"
   ]
  },
  {
   "cell_type": "markdown",
   "metadata": {},
   "source": [
    "The monthly Reddit data from October 1st 2017 until May 31st 2018 was obtained from pushshift.io. The website stores the daily and monthly Reddit data dumps and goes back until December 2005. The six month data used in this study is roughly 300 gigabytes in size.\n",
    "It is generally not feasible to load the data directly into memory due to the heavy memory requirements. The alternatives are to stream the monthly data line by line or set up a database and therein store the data. The relative efficiency of retrieving the flaired gender of authors was tested by comparing the retrieval time between using a NoSQL Mongo database and streaming the data line by line. Both methods were tested using the following specifications, Intel i7600k 4200 MHz quad core processor and 16 gigabytes of DDR4 ram.\n",
    "\n",
    "The Twitter data was obtained through through the Twitter API. The Twitter API allows for the streaming and\n",
    "gathering of tweets posted in real time and historical tweets of up to three weeks earlier. <a href= '#Research_Question'>Top</a>\n",
    "\n"
   ]
  },
  {
   "cell_type": "markdown",
   "metadata": {},
   "source": [
    "## Pre-Processing <a id='Pre-Processing'></a>"
   ]
  },
  {
   "cell_type": "markdown",
   "metadata": {},
   "source": [
    "After collecting the Twitter and Reddit data, all hyperlinks were removed from the messages. The messages were further manipulated by removing the following special characters: \\t, \\n and \\\\. Additionally, we employed the tokenization procedure of spaCy and lemmatized the datasets using the nltk package. The Twitter dataset was subject to additional pre-processing as all re-tweets were removed from the dataset.\n",
    "\n",
    "The data was transformed from a message level analysis (1 message per author per line) to a profile level analysis (200 messages per author per line). <a href= '#TOC'>Top</a>\n"
   ]
  },
  {
   "cell_type": "code",
   "execution_count": 6,
   "metadata": {
    "collapsed": true
   },
   "outputs": [],
   "source": [
    "#Import libraries\n",
    "\n",
    "%matplotlib inline \n",
    "\n",
    "import warnings\n",
    "warnings.filterwarnings('ignore')\n",
    "\n",
    "import pandas as pd\n",
    "import numpy as np\n",
    "from sklearn.metrics import accuracy_score\n",
    "import fasttext\n",
    "import seaborn as sns\n",
    "import matplotlib.pyplot as plt"
   ]
  },
  {
   "cell_type": "code",
   "execution_count": 2,
   "metadata": {
    "collapsed": true
   },
   "outputs": [],
   "source": [
    "#A function that transforms message level data to profile level data,\n",
    "#which contains 200 messages per line instead of 1 message per line.\n",
    "\n",
    "def batch_maker(data):\n",
    "    unique_authors = np.unique(data['Name'])\n",
    "    batch_dataset = []\n",
    "    \n",
    "    for author in unique_authors:\n",
    "        author_data = pd.DataFrame()\n",
    "        author_data['Body'] = data['Body'].where(data['Name'] == author)\n",
    "        author_data['Label'] = data['Label'].where(data['Name'] == author)\n",
    "        author_data = author_data.dropna()\n",
    "\n",
    "        author_data = author_data.reset_index()\n",
    "\n",
    "        if author_data.shape[0] < 200:\n",
    "            continue\n",
    "\n",
    "        else:\n",
    "            for x in range(200,author_data.shape[0], 200):\n",
    "                batch_data = author_data[(x-200):x]\n",
    "                batch_body = batch_data.Body.str.cat(sep=' ')\n",
    "                batch_label = author_data.Label[0]\n",
    "\n",
    "                batch_dataset.append([batch_body,batch_label])\n",
    "        \n",
    "    return pd.DataFrame(batch_dataset)"
   ]
  },
  {
   "cell_type": "code",
   "execution_count": 3,
   "metadata": {},
   "outputs": [
    {
     "name": "stderr",
     "output_type": "stream",
     "text": [
      "/Users/anwar/anaconda3/lib/python3.6/site-packages/ipykernel_launcher.py:5: ParserWarning: Falling back to the 'python' engine because the 'c' engine does not support regex separators (separators > 1 char and different from '\\s+' are interpreted as regex); you can avoid this warning by specifying engine='python'.\n",
      "  \"\"\"\n",
      "/Users/anwar/anaconda3/lib/python3.6/site-packages/ipykernel_launcher.py:10: ParserWarning: Falling back to the 'python' engine because the 'c' engine does not support regex separators (separators > 1 char and different from '\\s+' are interpreted as regex); you can avoid this warning by specifying engine='python'.\n",
      "  # Remove the CWD from sys.path while we load stuff.\n",
      "/Users/anwar/anaconda3/lib/python3.6/site-packages/ipykernel_launcher.py:15: ParserWarning: Falling back to the 'python' engine because the 'c' engine does not support regex separators (separators > 1 char and different from '\\s+' are interpreted as regex); you can avoid this warning by specifying engine='python'.\n",
      "  from ipykernel import kernelapp as app\n",
      "/Users/anwar/anaconda3/lib/python3.6/site-packages/ipykernel_launcher.py:20: ParserWarning: Falling back to the 'python' engine because the 'c' engine does not support regex separators (separators > 1 char and different from '\\s+' are interpreted as regex); you can avoid this warning by specifying engine='python'.\n"
     ]
    }
   ],
   "source": [
    "#Load Data Batched and Split Data.\n",
    "\n",
    "#Twitter Age Dataset: X_test, X_train, y_test\n",
    "df_t_X_test_age = pd.read_csv(\"X_test_age_volk.csv\")\n",
    "df_t_X_train_age = pd.read_csv(\"X_train_age_volk.csv\", names = ['Text','Label'], sep = \"__label__\")\n",
    "df_t_y_test_age = pd.read_csv(\"y_test_age_volk.csv\", names = ['Label'])\n",
    "\n",
    "#Twitter Gender Dataset: X_test, X_train, y_test\n",
    "df_t_X_test_gender = pd.read_csv(\"X_test_volk.csv\")\n",
    "df_t_X_train_gender = pd.read_csv(\"X_train_volk.csv\", names = ['Text','Label'], sep = \"__label__\")\n",
    "df_t_y_test_gender = pd.read_csv(\"y_test_volk.csv\")\n",
    "\n",
    "#Reddit Age Dataset: X_test, X_train, y_test\n",
    "df_r_X_test_age = pd.read_csv(\"X_test_r_age_batch.csv\")\n",
    "df_r_X_train_age = pd.read_csv(\"X_train_r_age_batch.csv\", names = ['Text','Label'], sep = \"__label__\")\n",
    "df_r_y_test_age = pd.read_csv(\"y_test_r_age_batch.csv\")\n",
    "\n",
    "#Reddit Gender Dataset: X_test, X_train, y_test\n",
    "df_r_X_test_gender = pd.read_csv(\"X_test_r_gender_batch.csv\")\n",
    "df_r_X_train_gender = pd.read_csv(\"X_train_r_gender_batch.csv\", names = ['Text','Label'], sep = \"__label__\")\n",
    "df_r_y_test_gender = pd.read_csv(\"y_test_r_gender_batch.csv\")"
   ]
  },
  {
   "cell_type": "code",
   "execution_count": 4,
   "metadata": {},
   "outputs": [
    {
     "name": "stdout",
     "output_type": "stream",
     "text": [
      "The 'Twitter Age' dataset has:      36786 columns and 2 rows.\n",
      "The 'Twitter Gender' dataset has:   36786 columns and 2 rows.\n",
      "The 'Reddit Age' dataset has:       31948 columns and 2 rows.\n",
      "The 'Reddit Gender' dataset has:    17972 columns and 2 rows.\n"
     ]
    }
   ],
   "source": [
    "#Dataset Shape\n",
    "print(\"The 'Twitter Age' dataset has: {:10} columns and {} rows.\".format((df_t_X_test_age.shape[0] + df_t_X_train_age.shape[0]),(df_t_X_train_age.shape[1])))\n",
    "print(\"The 'Twitter Gender' dataset has: {:7} columns and {} rows.\".format((df_t_X_test_gender.shape[0] + df_t_X_train_gender.shape[0]),(df_t_X_train_gender.shape[1])))\n",
    "print(\"The 'Reddit Age' dataset has: {:11} columns and {} rows.\".format((df_r_X_test_age.shape[0] + df_r_X_train_age.shape[0]),(df_r_X_train_age.shape[1])))\n",
    "print(\"The 'Reddit Gender' dataset has: {:8} columns and {} rows.\".format((df_r_X_test_gender.shape[0] + df_r_X_train_gender.shape[0]),(df_r_X_train_gender.shape[1])))"
   ]
  },
  {
   "cell_type": "markdown",
   "metadata": {},
   "source": [
    "## Data Distribution <a id='Data_Distribution'></a>"
   ]
  },
  {
   "cell_type": "markdown",
   "metadata": {},
   "source": [
    "The violin plots shown in Figure 1 display the author age distribution and the post\n",
    "frequency distribution for the Twitter- and Reddit age datasets. Figure 1 (a) and Figure 1\n",
    "(b) show that the author age distribution and post frequency distribution for the Reddit\n",
    "age dataset are leptokurtic, as they exhibits positive excess kurtosis relative to a normal\n",
    "distribution. While, Twitter’s author age distribution and post frequency distribution\n",
    "are platykurtic, as they exhibits negative excess kurtosis relative to a normal distribution. Furthermore, both distributions are skewed to the right, indicating that younger users are more prevalent on the platform. The distributions also indicate that Reddit’s\n",
    "authors span more evenly across the age groups, while Twitter’s authors are relatively\n",
    "more centered between 18 and 25 years old. Lastly, we find that Reddit users between\n",
    "the age of 15-20 years old have the highest ratio of posts to number of authors, which\n",
    "indicates that this category is more active on the platform than other age categories are. <a href= '#TOC'>Top</a>"
   ]
  },
  {
   "cell_type": "code",
   "execution_count": 8,
   "metadata": {},
   "outputs": [
    {
     "data": {
      "text/plain": [
       "Text(0.5,0,\"1(a). Author's Age Distribution\")"
      ]
     },
     "execution_count": 8,
     "metadata": {},
     "output_type": "execute_result"
    },
    {
     "data": {
      "image/png": "[encoded data removed]",
      "text/plain": [
       "<matplotlib.figure.Figure at 0x10c477eb8>"
      ]
     },
     "metadata": {},
     "output_type": "display_data"
    }
   ],
   "source": [
    "#Filter the dataframes from ages higher than 70 and below 10.\n",
    "#Furthermore, the restructure the data such that it can be used to\n",
    "#create a merged violin plot and thereby show the distribution of the\n",
    "#data.\n",
    "\n",
    "df_age_data = pd.read_csv(\"Reddit_Authors_Filtered_Duplicates_Bots_Truth_Labels_Age.csv\")\n",
    "df_age_data = df_age_data[df_age_data['Age'] < 71]\n",
    "df_age_data['Label'] = 'Reddit'\n",
    "\n",
    "df_age_data2 = pd.read_csv(\"Twitter_Authors_Filtered_Duplicate_Bots_With_Truth_Labels.csv\")\n",
    "df_age_data2 = df_age_data2[df_age_data2['Age'] < 71]\n",
    "df_age_data2 = df_age_data2[df_age_data2['Age'] > 9]\n",
    "df_age_data2['Label'] = 'Twitter'\n",
    "\n",
    "test = pd.concat([df_age_data['Age'], df_age_data2['Age']], axis = 0)\n",
    "test = test.reset_index()\n",
    "del(test['index'])\n",
    "\n",
    "test2 = pd.concat([df_age_data['Label'], df_age_data2['Label']], axis = 0)\n",
    "test2 = test2.reset_index()\n",
    "del(test2['index'])\n",
    "\n",
    "test3 = pd.concat([test['Age'],test2['Label']], axis = 1)\n",
    "\n",
    "fig, ax = plt.subplots()\n",
    "sns.violinplot(x = test3['Label'], y=test3['Age'] , axes = ax, orient= 'v')\n",
    "ax.set_xlabel(\"1(a). Author's Age Distribution\")\n"
   ]
  },
  {
   "cell_type": "code",
   "execution_count": 11,
   "metadata": {},
   "outputs": [
    {
     "data": {
      "text/plain": [
       "Text(0.5,0,'The post distribution per age group')"
      ]
     },
     "execution_count": 11,
     "metadata": {},
     "output_type": "execute_result"
    },
    {
     "data": {
      "image/png": "[encoded data removed]",
      "text/plain": [
       "<matplotlib.figure.Figure at 0x1a121c1c50>"
      ]
     },
     "metadata": {},
     "output_type": "display_data"
    }
   ],
   "source": [
    "truth_labels = pd.read_csv(\"Reddit_Authors_Filtered_Duplicates_Bots_Truth_Labels_Age.csv\")\n",
    "\n",
    "#Counts the number of posts per age category for the Reddit Age Data\n",
    "age = []\n",
    "post = []\n",
    "for x in range(10,71):\n",
    "    post.append(sum(truth_labels['Posts'][truth_labels['Age'] == x]))\n",
    "    age.append(x)\n",
    "    \n",
    "#Creates a new DataFrame to save age & number of posts in\n",
    "news = pd.DataFrame()\n",
    "\n",
    "for x in range(len(age)):\n",
    "    boo = np.zeros(post[x])\n",
    "    boo = np.where(boo == 0, age[x], boo)\n",
    "    boo = pd.DataFrame(boo)\n",
    "\n",
    "    news = news.append(boo)\n",
    "    \n",
    "news.columns = ['Age']\n",
    "news = news.reset_index()\n",
    "news['Label'] = 'Reddit'\n",
    "\n",
    "truth_labels = pd.read_csv(\"Twitter_Authors_Filtered_Duplicate_Bots_With_Truth_Labels.csv\")\n",
    "\n",
    "##Counts the number of posts per age category for the Twitter Age Data\n",
    "age = []\n",
    "post = []\n",
    "for x in range(10,71):\n",
    "    post.append(sum(truth_labels['Count'][truth_labels['Age'] == x]))\n",
    "    age.append(x)\n",
    "    \n",
    "#Creates a new DataFrame to save age & number of posts in    \n",
    "newss = pd.DataFrame()\n",
    "\n",
    "#Matches the age with the number of posts and manually adds a 0\n",
    "#if the age category has no post count, instead of skipping it.\n",
    "for x in range(len(age)):\n",
    "    if post[x] != 0:\n",
    "        boo = np.zeros(post[x])\n",
    "        boo = np.where(boo == 0, age[x], boo)\n",
    "        boo = pd.DataFrame(boo)\n",
    "\n",
    "        newss = newss.append(boo)\n",
    "    else:\n",
    "        boo = [0]\n",
    "        boo = pd.DataFrame(boo)\n",
    "        newss = newss.append(boo)\n",
    "    \n",
    "newss.columns = ['Age']\n",
    "newss = newss.reset_index()\n",
    "newss['Label'] = 'Twitter'\n",
    "\n",
    "#Creates the violin plot\n",
    "dataset_done = pd.concat([news['Age'],newss['Age']], axis = 0)\n",
    "dataset_done2 = pd.concat([news['Label'], newss['Label']], axis = 0)\n",
    "\n",
    "data_freq = pd.concat([dataset_done, dataset_done2], axis = 1)\n",
    "\n",
    "fig, ax = plt.subplots()\n",
    "sns.violinplot(x = data_freq['Label'], y=data_freq['Age'] , axes = ax, orient= 'v')\n",
    "ax.set_xlabel(\"1(b). The post distribution per age group\")\n",
    "\n"
   ]
  },
  {
   "cell_type": "markdown",
   "metadata": {},
   "source": [
    "## Grid Search <a id='Grid_Search'></a>"
   ]
  },
  {
   "cell_type": "markdown",
   "metadata": {},
   "source": [
    "The data has pre-processed and has been split according to the fastText algorithms specifications. However, the fastText algorithm has several hyperparameters that require optimization. In order to do so, we create a gridsearch function which runs over an arbitrary range per hyperparameter. An arbitrary range of hyperparameters was chosen in order to finish the optimization in a feasible timeframe. <a href= '#TOC'>Top</a>"
   ]
  },
  {
   "cell_type": "code",
   "execution_count": 161,
   "metadata": {
    "collapsed": true
   },
   "outputs": [],
   "source": [
    "#A function that performs the gridsearch on the variables mentioned\n",
    "#in the function's name, specifically for the Reddit Age Batch Data.\n",
    "\n",
    "#In order to run the code for the other datasets, replace \n",
    "#the file names on the lines marked with :(1), (2), (3)\n",
    "def grid_search(dim, lr, wordngrams, mincount, minn, maxn, bucket, epoch, ws):\n",
    "    model = fasttext.supervised(\"X_train_r_age_batch.csv\", \"test_model\", dim = dim, lr = lr, word_ngrams = wordngrams,\n",
    "                                min_count = mincount, minn = minn, maxn = maxn, bucket = bucket, epoch = epoch , ws = ws) #(1)\n",
    "    \n",
    "    X_test = pd.read_csv(\"X_test_r_age_batch.csv\", names = ['text']) #(2)\n",
    "    y_pred = model.predict(X_test['text'])\n",
    "    y_true = pd.read_csv(\"y_test_r_age_batch.csv\", names = ['Label']) #(3)\n",
    "    y_true['Label'] = y_true['Label'].apply(lambda x: x[9:])\n",
    "    y_true = y_true['Label'].tolist()\n",
    "    accuracy = accuracy_score(y_pred, y_true)\n",
    "    print((\"dim:\",dim, \"lr:\",lr, \"wordngram:\",wordngrams,\"mincount:\",mincount,\"minn:\",minn,\"maxn:\", maxn, \n",
    "            \"bucket:\",bucket,\"epoch:\", epoch,\"ws:\", ws, \"accuracy:\", accuracy))\n",
    "    return (\"dim:\",dim, \"lr:\",lr, \"wordngram:\",wordngrams,\"mincount:\",mincount,\"minn:\",minn,\"maxn:\", maxn, \n",
    "            \"bucket:\",bucket,\"epoch:\", epoch,\"ws:\", ws, \"accuracy:\", accuracy)\n",
    "    "
   ]
  },
  {
   "cell_type": "code",
   "execution_count": null,
   "metadata": {
    "collapsed": true
   },
   "outputs": [],
   "source": [
    "from sklearn.grid_search import ParameterGrid\n",
    "\n",
    "#A dictionary that contains a range of values per hyperparameter\n",
    "#that will be optimizer through a gridsearch\n",
    "\n",
    "param_grid = {'epoch' : [10, 20 , 30 ,40, 50, 100],\n",
    "'dim' : [10, 20 , 30 , 40 ,50 , 100],\n",
    "'lr' : [0.001, 0.01, 0.05, 0.1, 0.2],\n",
    "'wordngrams' : [1,2,3],\n",
    "'mincount' : [1,2,3,4],\n",
    "'minn' : [1,2,3,4],\n",
    "'maxn' : [1,2,3,4],\n",
    "'bucket' : [100000, 1000000, 2000000, 5000000, 10000000],\n",
    "'ws': [3,4,6]}\n",
    "\n",
    "\n",
    "grid = ParameterGrid(param_grid)\n",
    "results = []\n",
    "\n",
    "for params in grid:\n",
    "    results.append(grid_search(params['dim'], params['lr'], params['wordngrams'], params['mincount'], params['minn'],\n",
    "                params['maxn'],params['bucket'], params['epoch'],params['ws']))"
   ]
  },
  {
   "cell_type": "markdown",
   "metadata": {},
   "source": [
    "\n",
    "\n",
    "# FastText Domain Specific Model<a id='Domain_Specific'></a>"
   ]
  },
  {
   "cell_type": "markdown",
   "metadata": {},
   "source": [
    "The models make use of the optimized hyperparameters that were found through the gridsearch and are considered domain specific as the models trained on the Twitter (Reddit) data are only tested on Twitter (Reddit) data. The findings suggest that the models perform substantially better than the majoirty baseline. Suggesting that the fast and effective fastText models can be employed in the real world to extract personal attributes such as age and gender.\n",
    "\n",
    "- The Twitter Gender model reaches accuracy levels of 90.2%, relative to a majority baseline of 55.6%. \n",
    "- The Reddit Gender model reaches accuracy leels of 84.9%, relative to the majority baseline of 50.3%. \n",
    "- The Twitter Age model reaches accuracy levels of 86.2%, relative to a majority baseline of 65.6%. \n",
    "- The Reddit Age model reaches accuracy levels of 65%, relative to a majority baseline of 55.5%.  <a href= '#TOC'>Top</a>"
   ]
  },
  {
   "cell_type": "markdown",
   "metadata": {},
   "source": [
    "## Model Twitter Gender <a id='DSTwitterGender'></a>  "
   ]
  },
  {
   "cell_type": "markdown",
   "metadata": {},
   "source": [
    " <a href= '#TOC'>Top</a>"
   ]
  },
  {
   "cell_type": "code",
   "execution_count": null,
   "metadata": {
    "collapsed": true
   },
   "outputs": [],
   "source": [
    "#Optimal hyperparameters find in gridsearch\n",
    "epoch = 100\n",
    "lr = 0.2\n",
    "dim = 70\n",
    "bucket = 5000000\n",
    "wordngram = 1\n",
    "mincount = 1\n",
    "ws = 7"
   ]
  },
  {
   "cell_type": "code",
   "execution_count": null,
   "metadata": {
    "collapsed": true
   },
   "outputs": [],
   "source": [
    "    #Twitter Gender\n",
    "    X_train_t = pd.read_csv(\"X_train_volk.csv\", names =['Body', 'Label'], sep = \"__label__\")\n",
    "    X_train_t = X_train_t.applymap(str)\n",
    "    X_train_t['Label'] = \"__label__\" + X_train_t['Label']\n",
    "    X_test = pd.read_csv(\"X_test_volk.csv\", names = [\"text\"])\n",
    "    y_test = pd.read_csv(\"y_test_volk.csv\", names = [\"Label\"])\n",
    "\n",
    "\n",
    "    X_train_t.to_csv(\"Train.csv\", header = False, index = False, sep = \" \")\n",
    "\n",
    "    model = fasttext.supervised(\"Train.csv\", \"test_model\", lr = lr, epoch = epoch , dim = dim, bucket = bucket, word_ngrams = wordngram, min_count = mincount, ws = ws)\n",
    "    y_pred = model.predict(X_test['text'])\n",
    "    y_true = y_test.copy()\n",
    "    y_true['Label'] = y_true['Label'].apply(lambda x: x[9:])\n",
    "    y_true = y_true['Label'].tolist()\n",
    "    accuracy = accuracy_score(y_pred, y_true)\n",
    "    print(accuracy , model.maxn , model.minn)"
   ]
  },
  {
   "cell_type": "markdown",
   "metadata": {},
   "source": [
    "## Model Reddit Gender <a id='DSRedditGender'></a>"
   ]
  },
  {
   "cell_type": "markdown",
   "metadata": {},
   "source": [
    " <a href= '#TOC'>Top</a>"
   ]
  },
  {
   "cell_type": "code",
   "execution_count": null,
   "metadata": {
    "collapsed": true
   },
   "outputs": [],
   "source": [
    "#Optimal hyperparameters find in gridsearch\n",
    "lr = 0.1\n",
    "dim = 10\n",
    "bucket = 7000000\n",
    "wordngram = 2\n",
    "mincount = 0\n",
    "ws = 3"
   ]
  },
  {
   "cell_type": "code",
   "execution_count": null,
   "metadata": {
    "collapsed": true
   },
   "outputs": [],
   "source": [
    "    #Reddit Gender\n",
    "    parameters = []    \n",
    "    X_train = pd.read_csv(\"X_train_r_gender_batch.csv\", names =['Body', 'Label'], sep = \"__label__\")\n",
    "    X_train['Label'] = \"__label__\" + X_train['Label']\n",
    "    X_test = pd.read_csv(\"X_test_r_gender_batch.csv\", names = ['text'])\n",
    "    y_test = pd.read_csv(\"y_test_r_gender_batch.csv\", names = ['Label'])\n",
    "    \n",
    "    X_train = X_train\n",
    "\n",
    "    X_train.to_csv(\"Train.csv\", header = False, index = False, sep = \" \")\n",
    "    \n",
    "    \n",
    "    results = []\n",
    "    epoch = 100\n",
    "    \n",
    "    model = fasttext.supervised(\"Train.csv\", \"test_model\", lr = lr, epoch = epoch , dim = dim, bucket = bucket, word_ngrams = wordngram, min_count = mincount, ws = ws, maxn = 3, minn = 0)\n",
    "    y_pred = model.predict(X_test['text'])\n",
    "    y_true = pd.read_csv(\"y_test_r_gender_batch.csv\", names = ['Label'])\n",
    "    y_true['Label'] = y_true['Label'].apply(lambda x: x[9:])\n",
    "    y_true = y_true['Label'].tolist()\n",
    "    accuracy = accuracy_score(y_pred, y_true)\n",
    "    print(accuracy)"
   ]
  },
  {
   "cell_type": "markdown",
   "metadata": {},
   "source": [
    "## Model Twitter Age<a id='DSTwitterAge'></a>"
   ]
  },
  {
   "cell_type": "markdown",
   "metadata": {},
   "source": [
    " <a href= '#TOC'>Top</a>"
   ]
  },
  {
   "cell_type": "code",
   "execution_count": null,
   "metadata": {
    "collapsed": true
   },
   "outputs": [],
   "source": [
    "#Optimal hyperparameters find in gridsearch\n",
    "epoch = 100\n",
    "lr = 0.05\n",
    "dim = 50\n",
    "bucket = 5000000\n",
    "wordngram = 1\n",
    "mincount = 1\n",
    "ws = 7\n",
    "maxn = 1\n",
    "minn = 0"
   ]
  },
  {
   "cell_type": "code",
   "execution_count": null,
   "metadata": {
    "collapsed": true
   },
   "outputs": [],
   "source": [
    "    #Twitter Age\n",
    "    \n",
    "    X_train_t = pd.read_csv(\"X_train_age_volk.csv\", names =['Body', 'Label'], sep = \"__label__\")\n",
    "    X_train_t = X_train_t.applymap(str)\n",
    "    X_train_t['Label'] = \"__label__\" + X_train_t['Label']\n",
    "    X_test_t = pd.read_csv(\"X_test_age_volk.csv\", names = [\"text\"])\n",
    "    y_test_t = pd.read_csv(\"y_test_age_volk.csv\", names = [\"Label\"])\n",
    "    \n",
    "   \n",
    "    X_train = X_train_t\n",
    "    X_test = X_test_t\n",
    "    y_test = y_test_t\n",
    "    \n",
    "    X_train.to_csv(\"Train.csv\", header = False, index = False, sep = \" \")\n",
    "    model = fasttext.supervised(\"Train.csv\", \"test_model\", lr = lr, epoch = epoch , dim = dim, bucket = bucket, word_ngrams = wordngram, min_count = mincount, ws = ws, maxn = maxn, minn = minn)\n",
    "    y_pred = model.predict(X_test['text'])\n",
    "    y_true = y_test.copy()\n",
    "    y_true['Label'] = y_true['Label'].apply(lambda x: x[9:])\n",
    "    y_true = y_true['Label'].tolist()\n",
    "    accuracy = accuracy_score(y_pred, y_true)\n",
    "    print(accuracy)"
   ]
  },
  {
   "cell_type": "markdown",
   "metadata": {},
   "source": [
    "## Model Reddit Age <a id='DSRedditAge'></a>"
   ]
  },
  {
   "cell_type": "markdown",
   "metadata": {},
   "source": [
    " <a href= '#TOC'>Top</a>"
   ]
  },
  {
   "cell_type": "code",
   "execution_count": null,
   "metadata": {
    "collapsed": true
   },
   "outputs": [],
   "source": [
    "#Optimal hyperparameters find in gridsearch\n",
    "epoch = 100\n",
    "lr = 0.05\n",
    "dim = 50\n",
    "bucket = 10000000\n",
    "wordngram = 2\n",
    "mincount = 2\n",
    "ws = 3\n",
    "maxn = 0\n",
    "minn = 0"
   ]
  },
  {
   "cell_type": "code",
   "execution_count": null,
   "metadata": {
    "collapsed": true
   },
   "outputs": [],
   "source": [
    "    #Reddit Age\n",
    "    #Reddit\n",
    "    X_train_r = pd.read_csv(\"X_train_r_age_batch.csv\", names =['Body', 'Label'], sep = \"__label__\")\n",
    "    X_train_r = X_train_r.applymap(str)\n",
    "    X_train_r['Label'] = \"__label__\" + X_train_r['Label']\n",
    "    X_test_r = pd.read_csv(\"X_test_r_age_batch.csv\", names = [\"text\"])\n",
    "    y_test_r = pd.read_csv(\"y_test_r_age_batch.csv\", names = [\"Label\"])\n",
    "    \n",
    "    X_train = X_train_r\n",
    "    X_train = X_train.reset_index()\n",
    "    X_test = X_test_r\n",
    "    y_test = y_test_r\n",
    "\n",
    "    X_train.to_csv(\"Train.csv\", header = False, index = False, sep = \" \")\n",
    "    \n",
    "    model = fasttext.supervised(\"Train.csv\", \"test_model\", lr = lr, epoch = epoch , dim = dim, bucket = bucket, word_ngrams = wordngram, min_count = mincount, ws = ws, maxn = maxn, minn = minn)\n",
    "    y_pred = model.predict(X_test['text'])\n",
    "    y_true = y_test.copy()\n",
    "    y_true['Label'] = y_true['Label'].apply(lambda x: x[9:])\n",
    "    y_true = y_true['Label'].tolist()\n",
    "    accuracy = accuracy_score(y_pred, y_true)\n",
    "    \n",
    "    print(accuracy)"
   ]
  },
  {
   "cell_type": "markdown",
   "metadata": {},
   "source": [
    "## FastText Cross-Domain Models <a id='Cross_Domain'></a>"
   ]
  },
  {
   "cell_type": "markdown",
   "metadata": {},
   "source": [
    "The cross-domain experiment suggests that the Twitter and Reddit, age and gender models generalize well across platform and generalize even better when training the models on mixed data. Which indicate that the training rules learned compliment each other. Secondly, we found that the gender models that were trained on mixed data suffered from high levels of diminishing returns after adding more than 20% data from the other platform. Thirdly, we show that one fit-all model demonstrates competitive performance. <a href= '#TOC'>Top</a>"
   ]
  },
  {
   "cell_type": "markdown",
   "metadata": {},
   "source": [
    "## Model Twitter Gender<a id='CSTwitterGender'></a>"
   ]
  },
  {
   "cell_type": "markdown",
   "metadata": {},
   "source": [
    "Individual accuracy scores for the gender cross-domain experiment between Twitter and Reddit, in which every loop depicts an additional iteration that adds 10% of the Reddit’s training data to that of Twitter’s training data. <a href= '#TOC'>Top</a>"
   ]
  },
  {
   "cell_type": "code",
   "execution_count": 13,
   "metadata": {},
   "outputs": [
    {
     "ename": "NameError",
     "evalue": "name 'pandas' is not defined",
     "output_type": "error",
     "traceback": [
      "\u001b[0;31m---------------------------------------------------------------------------\u001b[0m",
      "\u001b[0;31mNameError\u001b[0m                                 Traceback (most recent call last)",
      "\u001b[0;32m<ipython-input-13-a729d45edbdd>\u001b[0m in \u001b[0;36m<module>\u001b[0;34m()\u001b[0m\n\u001b[1;32m     76\u001b[0m \u001b[0;34m\u001b[0m\u001b[0m\n\u001b[1;32m     77\u001b[0m \u001b[0;32mfor\u001b[0m \u001b[0mx\u001b[0m \u001b[0;32min\u001b[0m \u001b[0mtest_size\u001b[0m\u001b[0;34m:\u001b[0m\u001b[0;34m\u001b[0m\u001b[0m\n\u001b[0;32m---> 78\u001b[0;31m     \u001b[0mtwitter_to_reddit\u001b[0m\u001b[0;34m(\u001b[0m\u001b[0mx\u001b[0m\u001b[0;34m)\u001b[0m\u001b[0;34m\u001b[0m\u001b[0m\n\u001b[0m\u001b[1;32m     79\u001b[0m \u001b[0;34m\u001b[0m\u001b[0m\n\u001b[1;32m     80\u001b[0m \u001b[0;34m\u001b[0m\u001b[0m\n",
      "\u001b[0;32m<ipython-input-13-a729d45edbdd>\u001b[0m in \u001b[0;36mtwitter_to_reddit\u001b[0;34m(test_size)\u001b[0m\n\u001b[1;32m      8\u001b[0m \u001b[0;32mdef\u001b[0m \u001b[0mtwitter_to_reddit\u001b[0m\u001b[0;34m(\u001b[0m\u001b[0mtest_size\u001b[0m\u001b[0;34m)\u001b[0m\u001b[0;34m:\u001b[0m\u001b[0;34m\u001b[0m\u001b[0m\n\u001b[1;32m      9\u001b[0m     \u001b[0;31m#Twitter\u001b[0m\u001b[0;34m\u001b[0m\u001b[0;34m\u001b[0m\u001b[0m\n\u001b[0;32m---> 10\u001b[0;31m     \u001b[0mX_train_t\u001b[0m \u001b[0;34m=\u001b[0m \u001b[0mpandas\u001b[0m\u001b[0;34m.\u001b[0m\u001b[0mread_csv\u001b[0m\u001b[0;34m(\u001b[0m\u001b[0;34m\"X_train_volk.csv\"\u001b[0m\u001b[0;34m,\u001b[0m \u001b[0mnames\u001b[0m \u001b[0;34m=\u001b[0m\u001b[0;34m[\u001b[0m\u001b[0;34m'Body'\u001b[0m\u001b[0;34m,\u001b[0m \u001b[0;34m'Label'\u001b[0m\u001b[0;34m]\u001b[0m\u001b[0;34m,\u001b[0m \u001b[0msep\u001b[0m \u001b[0;34m=\u001b[0m \u001b[0;34m\"__label__\"\u001b[0m\u001b[0;34m)\u001b[0m\u001b[0;34m\u001b[0m\u001b[0m\n\u001b[0m\u001b[1;32m     11\u001b[0m     \u001b[0mX_train_t\u001b[0m \u001b[0;34m=\u001b[0m \u001b[0mX_train_t\u001b[0m\u001b[0;34m.\u001b[0m\u001b[0mapplymap\u001b[0m\u001b[0;34m(\u001b[0m\u001b[0mstr\u001b[0m\u001b[0;34m)\u001b[0m\u001b[0;34m\u001b[0m\u001b[0m\n\u001b[1;32m     12\u001b[0m     \u001b[0mX_train_t\u001b[0m\u001b[0;34m[\u001b[0m\u001b[0;34m'Label'\u001b[0m\u001b[0;34m]\u001b[0m \u001b[0;34m=\u001b[0m \u001b[0;34m\"__label__\"\u001b[0m \u001b[0;34m+\u001b[0m \u001b[0mX_train_t\u001b[0m\u001b[0;34m[\u001b[0m\u001b[0;34m'Label'\u001b[0m\u001b[0;34m]\u001b[0m\u001b[0;34m\u001b[0m\u001b[0m\n",
      "\u001b[0;31mNameError\u001b[0m: name 'pandas' is not defined"
     ]
    }
   ],
   "source": [
    "#Accuracy fasttext model\n",
    "def accuracy_model(X_test, y_test, classifiers):\n",
    "        y_test['Label2'] = y_test['Label'].apply(lambda x: x[9:])\n",
    "        \n",
    "        results = classifiers.predict(X_test['Body'])\n",
    "        return (accuracy_score(results, y_test['Label2']))\n",
    "\n",
    "def twitter_to_reddit(test_size):\n",
    "    #Twitter\n",
    "    X_train_t = pd.read_csv(\"X_train_volk.csv\", names =['Body', 'Label'], sep = \"__label__\")\n",
    "    X_train_t = X_train_t.applymap(str)\n",
    "    X_train_t['Label'] = \"__label__\" + X_train_t['Label']\n",
    "    X_test_t = pd.read_csv(\"X_test_volk.csv\", names = [\"Body\"])\n",
    "    y_test_t = pd.read_csv(\"y_test_volk.csv\", names = [\"Label\"])\n",
    "    \n",
    "    data_train_gender_t = X_train_t\n",
    "\n",
    "    \n",
    "    \n",
    "    #Reddit\n",
    "    X_train_r = pd.read_csv(\"X_train_r_gender_batch.csv\", names =['Body', 'Label'], sep = \"__label__\")\n",
    "    X_train_r = X_train_r.applymap(str)\n",
    "    X_train_r['Label'] = \"__label__\" + X_train_r['Label']\n",
    "    X_test_r = pd.read_csv(\"X_test_r_gender_batch.csv\", names = [\"Body\"])\n",
    "    y_test_r = pd.read_csv(\"y_test_r_gender_batch.csv\", names = [\"Label\"])\n",
    "    \n",
    "    data_train_gender_r = X_train_r\n",
    "    \n",
    "\n",
    "    #New Dataset\n",
    "    X, y = data_train_gender_r['Body'], data_train_gender_r['Label']\n",
    "    X_train, X_extra, y_train, y_extra = train_test_split(X, y, test_size= test_size, random_state=42)\n",
    "\n",
    "    #Merge Datasets\n",
    "    X_train = pd.DataFrame(X_extra, columns = [\"Body\"])\n",
    "    y_train = pd.DataFrame(y_extra, columns = [\"Label\"])\n",
    "    extra_data = pd.concat([y_train,X_train], axis = 1)\n",
    "\n",
    "\n",
    "    #Finished Dataset\n",
    "    data_train_gender_t = extra_data.append(data_train_gender_t)\n",
    "    data_train_gender_t = data_train_gender_t.reset_index()\n",
    "\n",
    "    \n",
    "    X, y = data_train_gender_t['Body'], data_train_gender_t['Label']\n",
    "    \n",
    "    #Training Data\n",
    "    y_train, X_train = pd.DataFrame(y, columns = ['Label']), pd.DataFrame(X, columns = ['Body'])\n",
    "\n",
    "\n",
    "    #Train Data with Labels\n",
    "    X_train = pd.concat([y_train, X_train ], axis = 1)\n",
    "  \n",
    "    X_train.to_csv(\"X_train.csv\", header = False, index = False, sep = \" \")\n",
    "    \n",
    "    results_r = []\n",
    "    results_t = []\n",
    "    \n",
    "    for x in range(5):\n",
    "\n",
    "        #Train Fasttext\n",
    "        classifiers = fasttext.supervised(\"X_train.csv\", \"twitters_model\", epoch = 40, lr = 0.10)\n",
    "\n",
    "        results_r.append(accuracy_model(X_test_r, y_test_r,classifiers))\n",
    "        results_t.append(accuracy_model(X_test_t, y_test_t,classifiers))\n",
    "\n",
    "    average_r = sum(results_r)/len(results_r)\n",
    "    average_t = sum(results_t)/len(results_t)\n",
    "    \n",
    "\n",
    "    print([str(test_size)+\" Twitter Gender\", average_r,np.std(results_r), average_t,np.std(results_t)])\n",
    "\n",
    "    return thesis_results.append([str(test_size)+\"R\", \"Gender\", average_r,np.std(results_r), average_t,np.std(results_t)])\n",
    "                                                                 \n",
    "test_size = [0, 0.1,0.2,0.3,0.4,0.5,0.6,0.7,0.8,0.9,0.99]\n",
    "\n",
    "for x in test_size:\n",
    "    twitter_to_reddit(x)\n",
    "\n",
    "\n"
   ]
  },
  {
   "cell_type": "markdown",
   "metadata": {},
   "source": [
    "<img src=\"AppendixB.png\" />"
   ]
  },
  {
   "cell_type": "markdown",
   "metadata": {},
   "source": [
    "## Model Reddit Gender <a id='CSRedditGender'></a>"
   ]
  },
  {
   "cell_type": "markdown",
   "metadata": {},
   "source": [
    "Individual accuracy scores for the gender cross-domain experiment between Reddit and Twitter, in which every loop depicts an additional iteration that adds 10% of the Twitter’s training data to that of Reddit’s training data. <a href= '#TOC'>Top</a>"
   ]
  },
  {
   "cell_type": "code",
   "execution_count": null,
   "metadata": {
    "collapsed": true
   },
   "outputs": [],
   "source": [
    "#Accuracy fasttext model\n",
    "def accuracy_model(X_test, y_test, classifiers):\n",
    "        y_test['Label2'] = y_test['Label'].apply(lambda x: x[9:])\n",
    "        \n",
    "        results = classifiers.predict(X_test['Body'])\n",
    "        return (accuracy_score(results, y_test['Label2']))\n",
    "\n",
    "\n",
    "def reddit_to_twitter(test_size):\n",
    "    #Twitter\n",
    "    X_train_t = pd.read_csv(\"X_train_volk.csv\", names =['Body', 'Label'], sep = \"__label__\")\n",
    "    X_train_t = X_train_t.applymap(str)\n",
    "    X_train_t['Label'] = \"__label__\" + X_train_t['Label']\n",
    "    X_test_t = pd.read_csv(\"X_test_volk.csv\", names = [\"Body\"])\n",
    "    y_test_t = pd.read_csv(\"y_test_volk.csv\", names = [\"Label\"])\n",
    "    \n",
    "    data_train_gender_t = X_train_t\n",
    "\n",
    "    \n",
    "    \n",
    "    #Reddit\n",
    "    X_train_r = pd.read_csv(\"X_train_r_gender_batch.csv\", names =['Body', 'Label'], sep = \"__label__\")\n",
    "    X_train_r = X_train_r.applymap(str)\n",
    "    X_train_r['Label'] = \"__label__\" + X_train_r['Label']\n",
    "    X_test_r = pd.read_csv(\"X_test_r_gender_batch.csv\", names = [\"Body\"])\n",
    "    y_test_r = pd.read_csv(\"y_test_r_gender_batch.csv\", names = [\"Label\"])\n",
    "    \n",
    "    data_train_gender_r = X_train_r\n",
    "\n",
    "    \n",
    "      \n",
    "    #New Dataset\n",
    "    X, y = data_train_gender_t['Body'], data_train_gender_t['Label']\n",
    "    X_train, X_extra, y_train, y_extra = train_test_split(X, y, test_size= test_size, random_state=42)\n",
    "\n",
    "    #Merge Datasets\n",
    "    X_train = pd.DataFrame(X_extra, columns = [\"Body\"])\n",
    "    y_train = pd.DataFrame(y_extra, columns = [\"Label\"])\n",
    "    extra_data = pd.concat([y_train,X_train], axis = 1)\n",
    "\n",
    "\n",
    "    #Finished Dataset\n",
    "    data_train_gender_r = extra_data.append(data_train_gender_r)\n",
    "    data_train_gender_r = data_train_gender_r.reset_index()\n",
    "    \n",
    "\n",
    "    #Train data\n",
    "    X, y = data_train_gender_r['Body'], data_train_gender_r['Label']\n",
    "    y_train, X_train = pd.DataFrame(y, columns = ['Label']), pd.DataFrame(X, columns = ['Body'])\n",
    "\n",
    "\n",
    "    #Train Data with Labels\n",
    "    X_train = pd.concat([y_train, X_train ], axis = 1)\n",
    "\n",
    "\n",
    "    X_train.to_csv(\"X_train.csv\", header = False, index = False, sep = \" \")\n",
    "\n",
    "    results_r = []\n",
    "    results_t = []\n",
    "    \n",
    "    for x in range(5):\n",
    "\n",
    "        #Train Fasttext\n",
    "        classifierz = fasttext.supervised(\"X_train.csv\", \"reddits_model\", epoch = 40, lr = 0.10)\n",
    "\n",
    "        results_r.append(accuracy_model(X_test_r, y_test_r,classifierz))\n",
    "        results_t.append(accuracy_model(X_test_t, y_test_t,classifierz))\n",
    "\n",
    "\n",
    "    average_r = sum(results_r)/len(results_r)\n",
    "    average_t = sum(results_t)/len(results_t)\n",
    "    \n",
    "\n",
    "    print([str(test_size)+\" Reddit Gender\", average_r,np.std(results_r), average_t,np.std(results_t)])\n",
    "\n",
    "    return thesis_results.append([str(test_size)+\"T\", \"Gender\", average_r,np.std(results_r), average_t,np.std(results_t)])\n",
    "                                 \n",
    "                                 \n",
    "test_size = [0, 0.1,0.2,0.3,0.4,0.5,0.6,0.7,0.8,0.9,0.99]\n",
    "\n",
    "for x in test_size:\n",
    "    reddit_to_twitter(x)\n",
    "\n",
    "\n",
    "\n"
   ]
  },
  {
   "cell_type": "markdown",
   "metadata": {},
   "source": [
    "<img src=\"AppendixC.png\" />"
   ]
  },
  {
   "cell_type": "markdown",
   "metadata": {},
   "source": [
    "## Model Twitter Age<a id='CSTwitterAge'></a>"
   ]
  },
  {
   "cell_type": "markdown",
   "metadata": {},
   "source": [
    "Individual accuracy score for the age cross-domain experiment between Twitter and Reddit, in which every loop depicts an additional iteration that adds 10% of the Reddit’s training data to that of Twitter’s training data. <a href= '#TOC'>Top</a>"
   ]
  },
  {
   "cell_type": "code",
   "execution_count": null,
   "metadata": {
    "collapsed": true
   },
   "outputs": [],
   "source": [
    "#Accuracy fasttext model\n",
    "def accuracy_model(X_test, y_test, classifierc):\n",
    "    y_test['Label2'] = y_test['Label'].apply(lambda x: x[9:])\n",
    "    \n",
    "    results = classifierc.predict(X_test['Body'])\n",
    "    \n",
    "    return (accuracy_score(results, y_test['Label2']))\n",
    "\n",
    "def twitter_to_reddit(testsize, reddit, twitter):\n",
    "    \n",
    "    if testsize == 0:\n",
    "        X, y = twitter['Body'], twitter['Label']\n",
    "        y_train, X_train = pd.DataFrame(y, columns = ['Label']), pd.DataFrame(X, columns = ['Body'])\n",
    "        X_train = pd.concat([y_train, X_train ], axis = 1)\n",
    "        \n",
    "        X_train.to_csv(\"X_train.csv\", header = False, index = False, sep = \" \")\n",
    "        \n",
    "        \n",
    "        results_r = []\n",
    "        results_t = []\n",
    "\n",
    "        for x in range(5):\n",
    "\n",
    "            #Train Fasttext\n",
    "            classifierc = fasttext.supervised(\"X_train.csv\", \"twitter_age_model\", epoch = 40, lr = 0.10)\n",
    "\n",
    "            results_r.append(accuracy_model(X_test_r, y_test_r,classifierc))\n",
    "            results_t.append(accuracy_model(X_test_t, y_test_t,classifierc))        \n",
    "\n",
    "\n",
    "        average_r = sum(results_r)/len(results_r)\n",
    "        average_t = sum(results_t)/len(results_t)\n",
    "\n",
    "\n",
    "        print([str(testsize)+\" Twitter Age\", average_r,np.std(results_r), average_t,np.std(results_t)])\n",
    "        \n",
    "    else:   \n",
    "        #New Dataset\n",
    "\n",
    "        X, y = reddit['Body'], reddit['Label']\n",
    "        X_train, X_extra, y_train, y_extra = train_test_split(X, y, test_size= testsize, random_state=42)\n",
    "\n",
    "        #Merge Datasets\n",
    "        X_train = pd.DataFrame(X_extra, columns = [\"Body\"])\n",
    "        y_train = pd.DataFrame(y_extra, columns = [\"Label\"])\n",
    "        extra_data = pd.concat([y_train,X_train], axis = 1)\n",
    "\n",
    "\n",
    "        #Finished Dataset\n",
    "        data = extra_data.append(twitter)\n",
    "        data = data.reset_index()\n",
    "\n",
    "        X, y = data['Body'], data['Label']\n",
    "        y_train, X_train = pd.DataFrame(y, columns = ['Label']), pd.DataFrame(X, columns = ['Body'])\n",
    "\n",
    "\n",
    "        #Train Data with Labels\n",
    "        X_train = pd.concat([y_train, X_train ], axis = 1)\n",
    "        \n",
    "        X_train.to_csv(\"X_train.csv\", header = False, index = False, sep = \" \")\n",
    "\n",
    "        results_r = []\n",
    "        results_t = []\n",
    "\n",
    "        for x in range(5):\n",
    "\n",
    "            #Train Fasttext\n",
    "            classifierc = fasttext.supervised(\"X_train.csv\", \"twitter_age_model\", epoch = 40, lr = 0.10)\n",
    "\n",
    "            results_r.append(accuracy_model(X_test_r, y_test_r,classifierc))\n",
    "            results_t.append(accuracy_model(X_test_t, y_test_t,classifierc)) \n",
    "\n",
    "        average_r = sum(results_r)/len(results_r)\n",
    "        average_t = sum(results_t)/len(results_t)\n",
    "\n",
    "\n",
    "        print([str(testsize)+\" Twitter Age\", average_r,np.std(results_r), average_t,np.std(results_t)])\n",
    "\n",
    "\n",
    "\n",
    "\n",
    "    return thesis_results.append([str(testsize)+\"R\", \"Age\", average_r,np.std(results_r), average_t,np.std(results_t)])\n",
    "                            \n",
    "\n",
    "test_size = [0, 0.1,0.2,0.3,0.4,0.5,0.6,0.7,0.8,0.9, 0.99]\n",
    "\n",
    "for x in test_size:\n",
    "    twitter_to_reddit(x, data_train_gender_r, data_train_gender_t)\n",
    "\n"
   ]
  },
  {
   "cell_type": "markdown",
   "metadata": {},
   "source": [
    "<img src=\"AppendixE.png\" />"
   ]
  },
  {
   "cell_type": "markdown",
   "metadata": {},
   "source": [
    "## Model Reddit Age<a id='CSRedditAge'></a>"
   ]
  },
  {
   "cell_type": "markdown",
   "metadata": {},
   "source": [
    "Individual accuracy scores for the age cross-domain experiment between Reddit and Twitter, in which every loop depicts an additional iteration that adds 10% of the Twitter’s training data to that of Reddit’s training data. <a href= '#TOC'>Top</a>"
   ]
  },
  {
   "cell_type": "code",
   "execution_count": null,
   "metadata": {
    "collapsed": true
   },
   "outputs": [],
   "source": [
    "#Accuracy fasttext model\n",
    "def accuracy_model(X_test, y_test,classifierq):\n",
    "    y_test['Label2'] = y_test['Label'].apply(lambda x: x[9:])\n",
    "    \n",
    "    results = classifierq.predict(X_test['Body'])\n",
    "    \n",
    "    return (accuracy_score(results, y_test['Label2']))"
   ]
  },
  {
   "cell_type": "code",
   "execution_count": null,
   "metadata": {
    "collapsed": true
   },
   "outputs": [],
   "source": [
    "    #Twitter\n",
    "    X_train_t = pd.read_csv(\"X_train_age_volk.csv\", names =['Body', 'Label'], sep = \"__label__\")\n",
    "    X_train_t = X_train_t.applymap(str)\n",
    "    X_train_t['Label'] = \"__label__\" + X_train_t['Label']\n",
    "    X_test_t = pd.read_csv(\"X_test_age_volk.csv\", names = [\"Body\"])\n",
    "    y_test_t = pd.read_csv(\"y_test_age_volk.csv\", names = [\"Label\"])\n",
    "    \n",
    "   \n",
    "    data_train_gender_t = X_train_t\n",
    "    \n",
    "    #Reddit\n",
    "    X_train_r = pd.read_csv(\"X_train_r_age_batch.csv\", names =['Body', 'Label'], sep = \"__label__\")\n",
    "    X_train_r = X_train_r.applymap(str)\n",
    "    X_train_r['Label'] = \"__label__\" + X_train_r['Label']\n",
    "    X_test_r = pd.read_csv(\"X_test_r_age_batch.csv\", names = [\"Body\"])\n",
    "    y_test_r = pd.read_csv(\"y_test_r_age_batch.csv\", names = [\"Label\"])\n",
    "    \n",
    "    data_train_gender_r = X_train_r\n",
    "    \n",
    "    data_train_gender_r = data_train_gender_r.reset_index()"
   ]
  },
  {
   "cell_type": "code",
   "execution_count": null,
   "metadata": {
    "collapsed": true
   },
   "outputs": [],
   "source": [
    "def reddit_to_twitter(testsize, reddit, twitter):\n",
    "    if testsize == 0:\n",
    "        X, y = reddit['Body'], reddit['Label']\n",
    "        y_train, X_train = pd.DataFrame(y, columns = ['Label']), pd.DataFrame(X, columns = ['Body'])\n",
    "        X_train = pd.concat([y_train, X_train ], axis = 1)\n",
    "        \n",
    "        X_train.to_csv(\"X_train.csv\", header = False, index = False, sep = \" \")\n",
    "        \n",
    "        results_r = []\n",
    "        results_t = []\n",
    "\n",
    "        for x in range(5):\n",
    "\n",
    "            #Train Fasttext\n",
    "            classifierq = fasttext.supervised(\"X_train.csv\", \"reddit_age_model\", epoch = 40, lr = 0.10)\n",
    "\n",
    "            results_r.append(accuracy_model(X_test_r, y_test_r,classifierq))\n",
    "            results_t.append(accuracy_model(X_test_t, y_test_t,classifierq))\n",
    "      \n",
    "\n",
    "        average_r = sum(results_r)/len(results_r)\n",
    "        average_t = sum(results_t)/len(results_t)\n",
    "    \n",
    "\n",
    "        print([str(testsize)+\" Reddit Age\", average_r,np.std(results_r), average_t,np.std(results_t)])\n",
    "        \n",
    "    else:   \n",
    "        #New Dataset\n",
    "\n",
    "        X, y = twitter['Body'], twitter['Label']\n",
    "        X_train, X_extra, y_train, y_extra = train_test_split(X, y, test_size= testsize, random_state=42)\n",
    "\n",
    "        #Merge Datasets\n",
    "        X_train = pd.DataFrame(X_extra, columns = [\"Body\"])\n",
    "        y_train = pd.DataFrame(y_extra, columns = [\"Label\"])\n",
    "        extra_data = pd.concat([y_train,X_train], axis = 1)\n",
    "\n",
    "\n",
    "        #Finished Dataset\n",
    "        data = extra_data.append(reddit)\n",
    "        data = data.reset_index()\n",
    "\n",
    "        X, y = data['Body'], data['Label']\n",
    "        y_train, X_train = pd.DataFrame(y, columns = ['Label']), pd.DataFrame(X, columns = ['Body'])\n",
    "\n",
    "\n",
    "        #Train Data with Labels\n",
    "        X_train = pd.concat([y_train, X_train ], axis = 1)\n",
    "        \n",
    "        X_train.to_csv(\"X_train.csv\", header = False, index = False, sep = \" \")\n",
    "\n",
    "        results_r = []\n",
    "        results_t = []\n",
    "\n",
    "        for x in range(5):\n",
    "\n",
    "            #Train Fasttext\n",
    "            classifierq = fasttext.supervised(\"X_train.csv\", \"reddit_age_model\", epoch = 40, lr = 0.10)\n",
    "\n",
    "            results_r.append(accuracy_model(X_test_r, y_test_r,classifierq))\n",
    "            results_t.append(accuracy_model(X_test_t, y_test_t,classifierq))\n",
    " \n",
    "\n",
    "        average_r = sum(results_r)/len(results_r)\n",
    "        average_t = sum(results_t)/len(results_t)\n",
    "\n",
    "\n",
    "        print([str(testsize)+\" Reddit Age\", average_r,np.std(results_r), average_t,np.std(results_t)])\n",
    "\n",
    "\n",
    "\n",
    "\n",
    "    return thesis_results.append([str(testsize)+\"T\", \"Age\", average_r,np.std(results_r), average_t,np.std(results_t)])\n",
    "  \n",
    "test_size = [0, 0.1,0.2,0.3,0.4,0.5,0.6,0.7,0.8,0.9, 0.99]\n",
    "\n",
    "for x in test_size:\n",
    "    reddit_to_twitter(x, data_train_gender_r, data_train_gender_t)\n",
    "\n",
    "\n"
   ]
  },
  {
   "cell_type": "markdown",
   "metadata": {},
   "source": [
    "<img src=\"AppendixD.png\" />"
   ]
  },
  {
   "cell_type": "markdown",
   "metadata": {},
   "source": [
    "## Conclusion<a id='Conclusion'></a>"
   ]
  },
  {
   "cell_type": "markdown",
   "metadata": {},
   "source": [
    "The introduction and development of social media has created a semi-public database filled with user's posts which can be used to extract the personal attributes of otherwise anonymous users. The ability to do so opens up a new world of opportunities. It makes it possible for the government to target cancer campaigns through social media directly to vulernable users, whether they anonymous or not. It makes it possible for law enforcement to extract crucial information on a potential target or for marketeers to improve their marketing strategies.\n",
    "\n",
    "Furthermore, the information used to discover personal attributes can in turn be used to develop tools to mask the personal attributes of an otherwise anonymous user. This will help counteract social hacking/engineering and thereby reduce the cost incurred by the members of society. <a href= '#TOC'>Top</a>"
   ]
  }
 ],
 "metadata": {
  "kernelspec": {
   "display_name": "Python 3",
   "language": "python",
   "name": "python3"
  },
  "language_info": {
   "codemirror_mode": {
    "name": "ipython",
    "version": 3
   },
   "file_extension": ".py",
   "mimetype": "text/x-python",
   "name": "python",
   "nbconvert_exporter": "python",
   "pygments_lexer": "ipython3",
   "version": "3.6.8"
  }
 },
 "nbformat": 4,
 "nbformat_minor": 2
}
